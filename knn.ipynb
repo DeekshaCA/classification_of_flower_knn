{
 "cells": [
  {
   "cell_type": "code",
   "execution_count": 11,
   "id": "28d5d249",
   "metadata": {},
   "outputs": [
    {
     "name": "stdout",
     "output_type": "stream",
     "text": [
      "       Area_Code  Locality_Code  Region_Code  Height  Diameter  Class  Species\n",
      "0           4694             17         1609     3.0       5.0      7       48\n",
      "1            781              7         1380     4.0      17.0      2       54\n",
      "2          21014              6         1122     3.0      11.0      1       22\n",
      "3           7326              6          556     3.0      34.0      7       25\n",
      "4          13122             17         1752     5.0      16.0      2      128\n",
      "...          ...            ...          ...     ...       ...    ...      ...\n",
      "12661      28137             12         1133     3.0      21.0      2      181\n",
      "12662       1524             12         1455     3.0      17.0      2      193\n",
      "12663       2379             16         2175    11.0      30.0      6       22\n",
      "12664      16200             17         1435     5.5      14.0      2      128\n",
      "12665      26331             11         2102     3.0      25.0      2      209\n",
      "\n",
      "[12666 rows x 7 columns]\n",
      "<class 'pandas.core.frame.DataFrame'>\n",
      "RangeIndex: 12666 entries, 0 to 12665\n",
      "Data columns (total 7 columns):\n",
      " #   Column         Non-Null Count  Dtype  \n",
      "---  ------         --------------  -----  \n",
      " 0   Area_Code      12666 non-null  int64  \n",
      " 1   Locality_Code  12666 non-null  int64  \n",
      " 2   Region_Code    12666 non-null  int64  \n",
      " 3   Height         12666 non-null  float64\n",
      " 4   Diameter       12666 non-null  float64\n",
      " 5   Class          12666 non-null  int64  \n",
      " 6   Species        12666 non-null  int64  \n",
      "dtypes: float64(2), int64(5)\n",
      "memory usage: 692.8 KB\n",
      "None\n"
     ]
    },
    {
     "name": "stderr",
     "output_type": "stream",
     "text": [
      "C:\\Users\\HP\\AppData\\Local\\Temp\\ipykernel_13396\\2659245488.py:15: FutureWarning: In a future version of pandas all arguments of DataFrame.drop except for the argument 'labels' will be keyword-only.\n",
      "  inputs = data.drop(['Area_Code','Region_Code','Species','Class'],'columns')\n",
      "C:\\Users\\HP\\AppData\\Local\\Temp\\ipykernel_13396\\2659245488.py:16: FutureWarning: In a future version of pandas all arguments of DataFrame.drop except for the argument 'labels' will be keyword-only.\n",
      "  output = data.drop(['Area_Code','Locality_Code','Region_Code','Height','Diameter','Species'],'columns')\n",
      "C:\\ProgramData\\Anaconda3\\lib\\site-packages\\sklearn\\neighbors\\_classification.py:198: DataConversionWarning: A column-vector y was passed when a 1d array was expected. Please change the shape of y to (n_samples,), for example using ravel().\n",
      "  return self._fit(X, y)\n"
     ]
    },
    {
     "name": "stdout",
     "output_type": "stream",
     "text": [
      "[[ 98   4   4  11   0   0   3  30]\n",
      " [  3  75  84   1   0   0  17  49]\n",
      " [  5  49 315  23   0   0 118   9]\n",
      " [  6   1  15 539   0   0 155   1]\n",
      " [  7   0   0   0   0   0   0   5]\n",
      " [  0   0   0  10   0   0   1   0]\n",
      " [  5   3 143 135   0   0 391   1]\n",
      " [  2  32  14   0   0   0   2 168]]\n",
      "[2]\n",
      "Accuracy: 0.6258879242304657\n"
     ]
    },
    {
     "name": "stderr",
     "output_type": "stream",
     "text": [
      "C:\\ProgramData\\Anaconda3\\lib\\site-packages\\sklearn\\base.py:450: UserWarning: X does not have valid feature names, but KNeighborsClassifier was fitted with feature names\n",
      "  warnings.warn(\n"
     ]
    }
   ],
   "source": [
    "#PREDICT THE SPECIES OF FLOWER\n",
    "\n",
    "import pandas as pd\n",
    "import sklearn\n",
    "from sklearn.model_selection import train_test_split   # to spilt data set into training and testing sets\n",
    "from sklearn.neighbors import KNeighborsClassifier\n",
    "from sklearn.metrics import accuracy_score\n",
    "\n",
    "\n",
    "path=\"C:\\\\Users\\\\HP\\\\OneDrive\\\\Desktop\\\\projectML\\\\5_flowerclassrecognition\\\\Train.csv\"\n",
    "data=pd.read_csv(path)\n",
    "print(data)\n",
    "print(data.info())\n",
    "\n",
    "inputs = data.drop(['Area_Code','Region_Code','Species','Class'],'columns')\n",
    "output = data.drop(['Area_Code','Locality_Code','Region_Code','Height','Diameter','Species'],'columns')\n",
    "# print(inputs)\n",
    "# print(output)\n",
    "\n",
    "x_train,x_test,y_train,y_test = train_test_split(inputs,output,train_size=0.8)  \n",
    "\n",
    "# from sklearn.preprocessing import StandardScaler   # to increase the accuracy only use \"StandardScaler\" \n",
    "# sc=StandardScaler()\n",
    "# x_train=sc.fit_transform(x_train)\n",
    "# x_test=sc.transform(x_test)\n",
    "\n",
    "\n",
    "model=KNeighborsClassifier(n_neighbors=111)\n",
    "model.fit(x_train,y_train)\n",
    "y_pred=model.predict(x_test)\n",
    "\n",
    "\n",
    "from sklearn.metrics import confusion_matrix  # plot actual value with predicted value for checking accuracy of the model\n",
    "\n",
    "cm = confusion_matrix(y_test,y_pred)\n",
    "print(cm)\n",
    "\n",
    "res = model.predict([[1,5,16.4]])\n",
    "print(res)\n",
    "\n",
    "accuracy = accuracy_score(y_test, y_pred)\n",
    "print(\"Accuracy:\", accuracy)\n",
    "\n"
   ]
  },
  {
   "cell_type": "code",
   "execution_count": null,
   "id": "44463cfd",
   "metadata": {},
   "outputs": [],
   "source": []
  }
 ],
 "metadata": {
  "kernelspec": {
   "display_name": "Python 3 (ipykernel)",
   "language": "python",
   "name": "python3"
  },
  "language_info": {
   "codemirror_mode": {
    "name": "ipython",
    "version": 3
   },
   "file_extension": ".py",
   "mimetype": "text/x-python",
   "name": "python",
   "nbconvert_exporter": "python",
   "pygments_lexer": "ipython3",
   "version": "3.9.12"
  }
 },
 "nbformat": 4,
 "nbformat_minor": 5
}
